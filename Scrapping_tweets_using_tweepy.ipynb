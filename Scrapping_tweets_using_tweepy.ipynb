{
  "nbformat": 4,
  "nbformat_minor": 0,
  "metadata": {
    "colab": {
      "name": "Scrapping tweets using tweepy.ipynb",
      "provenance": []
    },
    "kernelspec": {
      "name": "python3",
      "display_name": "Python 3"
    }
  },
  "cells": [
    {
      "cell_type": "markdown",
      "metadata": {
        "id": "o4W-p1BA9SAe"
      },
      "source": [
        "### **Connecting to Twitter API**"
      ]
    },
    {
      "cell_type": "code",
      "metadata": {
        "id": "Lqa4F4275CEx",
        "outputId": "0b8170e2-64ff-4c23-b83d-dbfd0c03dfeb",
        "colab": {
          "base_uri": "https://localhost:8080/"
        }
      },
      "source": [
        "pip install tweepy  # to connect to the twitter server"
      ],
      "execution_count": null,
      "outputs": [
        {
          "output_type": "stream",
          "text": [
            "Requirement already satisfied: tweepy in /usr/local/lib/python3.6/dist-packages (3.6.0)\n",
            "Requirement already satisfied: six>=1.10.0 in /usr/local/lib/python3.6/dist-packages (from tweepy) (1.15.0)\n",
            "Requirement already satisfied: requests>=2.11.1 in /usr/local/lib/python3.6/dist-packages (from tweepy) (2.23.0)\n",
            "Requirement already satisfied: requests-oauthlib>=0.7.0 in /usr/local/lib/python3.6/dist-packages (from tweepy) (1.3.0)\n",
            "Requirement already satisfied: PySocks>=1.5.7 in /usr/local/lib/python3.6/dist-packages (from tweepy) (1.7.1)\n",
            "Requirement already satisfied: idna<3,>=2.5 in /usr/local/lib/python3.6/dist-packages (from requests>=2.11.1->tweepy) (2.10)\n",
            "Requirement already satisfied: chardet<4,>=3.0.2 in /usr/local/lib/python3.6/dist-packages (from requests>=2.11.1->tweepy) (3.0.4)\n",
            "Requirement already satisfied: certifi>=2017.4.17 in /usr/local/lib/python3.6/dist-packages (from requests>=2.11.1->tweepy) (2020.6.20)\n",
            "Requirement already satisfied: urllib3!=1.25.0,!=1.25.1,<1.26,>=1.21.1 in /usr/local/lib/python3.6/dist-packages (from requests>=2.11.1->tweepy) (1.24.3)\n",
            "Requirement already satisfied: oauthlib>=3.0.0 in /usr/local/lib/python3.6/dist-packages (from requests-oauthlib>=0.7.0->tweepy) (3.1.0)\n"
          ],
          "name": "stdout"
        }
      ]
    },
    {
      "cell_type": "code",
      "metadata": {
        "id": "OqeQSULp5Zml"
      },
      "source": [
        "import tweepy\n",
        "import re\n",
        "\n",
        "# to connect to the Twitter Application server from Python client\n",
        "from tweepy import OAuthHandler\n",
        "\n",
        "# define Consumer API Keys to inform Python which application to connect with\n",
        "consumer_api_key = 'tDdZNyR2V0M3c3KxUjk2cTS64'\n",
        "consumer_api_secret = '2yKu4viJ0efBNC8GmDs9TltuTqiLvvgzBNbQ10HP9Ko4TE2PNG' \n",
        "\n",
        "# define Access tokens which specify the rights to access the application\n",
        "access_token = '1328013804156973057-VXymoIUNEeL8fXRB6K1XpChhUrqIRc'\n",
        "access_token_secret ='qdLpikj4COu4lumNWXKZSNfb5JYHVnZz2TJaJ0cNnj9zD'"
      ],
      "execution_count": null,
      "outputs": []
    },
    {
      "cell_type": "code",
      "metadata": {
        "id": "kTVxEtl49sxP"
      },
      "source": [
        "authorizer = OAuthHandler(consumer_api_key, consumer_api_secret)  # takes the Consumer API Key and Consumer API Secret as arguments\n",
        "authorizer.set_access_token(access_token, access_token_secret)"
      ],
      "execution_count": null,
      "outputs": []
    },
    {
      "cell_type": "markdown",
      "metadata": {
        "id": "ImxPYsgc9hwA"
      },
      "source": [
        "### **Scraping Tweets**"
      ]
    },
    {
      "cell_type": "code",
      "metadata": {
        "id": "An2Rl1f89hQq",
        "outputId": "43c1d89e-47d0-4175-ff66-bf0c571e2824",
        "colab": {
          "base_uri": "https://localhost:8080/"
        }
      },
      "source": [
        "api = tweepy.API(authorizer ,timeout=15) # if no tweet found after searching for 15 seconds, the application should time out\n",
        "\n",
        "all_tweets = []\n",
        "\n",
        "search_query = 'microsoft'\n",
        "\n",
        "for tweet_object in tweepy.Cursor(api.search,q=search_query+\" -filter:retweets\",lang='en',result_type='recent').items(200):  # type of operation is search tweets after filtering out retweets\n",
        "    all_tweets.append(tweet_object.text)\n",
        "\n",
        "print(all_tweets[0])"
      ],
      "execution_count": null,
      "outputs": [
        {
          "output_type": "stream",
          "text": [
            "@Microsoft @Xbox @XboxSupport \n",
            "FIRST THE CONFUSING NAMES THEN THIS, what a disgusting business practice, You guys n… https://t.co/wA5TIsv7xy\n"
          ],
          "name": "stdout"
        }
      ]
    }
  ]
}