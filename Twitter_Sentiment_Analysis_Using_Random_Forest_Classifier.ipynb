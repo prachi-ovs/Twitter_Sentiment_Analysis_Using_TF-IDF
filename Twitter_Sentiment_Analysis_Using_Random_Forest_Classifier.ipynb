{
  "nbformat": 4,
  "nbformat_minor": 0,
  "metadata": {
    "colab": {
      "name": "Twitter Sentiment Analysis Using Random Forest Classifier.ipynb",
      "provenance": [],
      "authorship_tag": "ABX9TyNIbrYjkxR/sih4pn/pet1t",
      "include_colab_link": true
    },
    "kernelspec": {
      "name": "python3",
      "display_name": "Python 3"
    }
  },
  "cells": [
    {
      "cell_type": "markdown",
      "metadata": {
        "id": "view-in-github",
        "colab_type": "text"
      },
      "source": [
        "<a href=\"https://colab.research.google.com/github/prachi-ovs/Twitter_Sentiment_Analysis_Using_TF-IDF/blob/main/Twitter_Sentiment_Analysis_Using_Random_Forest_Classifier.ipynb\" target=\"_parent\"><img src=\"https://colab.research.google.com/assets/colab-badge.svg\" alt=\"Open In Colab\"/></a>"
      ]
    },
    {
      "cell_type": "code",
      "metadata": {
        "colab": {
          "base_uri": "https://localhost:8080/"
        },
        "id": "r1-7Baacmy8d",
        "outputId": "c73a7622-b55c-4335-c063-cfed8aa1fb46"
      },
      "source": [
        "import pandas as pd \n",
        "import re  \n",
        "import nltk \n",
        "nltk.download('stopwords')  \n",
        "from nltk.corpus import stopwords \n",
        "\n",
        "import seaborn as sns\n",
        "import matplotlib.pyplot as plt\n",
        "import re\n",
        "\n",
        "from sklearn.feature_extraction.text import TfidfVectorizer \n",
        "from sklearn.model_selection import train_test_split  \n",
        "from sklearn.ensemble import RandomForestClassifier\n",
        "from sklearn.metrics import classification_report, confusion_matrix, accuracy_score"
      ],
      "execution_count": 44,
      "outputs": [
        {
          "output_type": "stream",
          "text": [
            "[nltk_data] Downloading package stopwords to /root/nltk_data...\n",
            "[nltk_data]   Package stopwords is already up-to-date!\n"
          ],
          "name": "stdout"
        }
      ]
    },
    {
      "cell_type": "markdown",
      "metadata": {
        "id": "A-jYXKSZqMFe"
      },
      "source": [
        "## Data Set"
      ]
    },
    {
      "cell_type": "code",
      "metadata": {
        "colab": {
          "base_uri": "https://localhost:8080/",
          "height": 452
        },
        "id": "m6H8Vw3Vjrjr",
        "outputId": "b1cf8558-d297-4d99-f318-9f0f29640b38"
      },
      "source": [
        "tweets = pd.read_csv(\"https://raw.githubusercontent.com/kolaveridi/kaggle-Twitter-US-Airline-Sentiment-/master/Tweets.csv\")\n",
        "tweets.head()"
      ],
      "execution_count": 3,
      "outputs": [
        {
          "output_type": "execute_result",
          "data": {
            "text/html": [
              "<div>\n",
              "<style scoped>\n",
              "    .dataframe tbody tr th:only-of-type {\n",
              "        vertical-align: middle;\n",
              "    }\n",
              "\n",
              "    .dataframe tbody tr th {\n",
              "        vertical-align: top;\n",
              "    }\n",
              "\n",
              "    .dataframe thead th {\n",
              "        text-align: right;\n",
              "    }\n",
              "</style>\n",
              "<table border=\"1\" class=\"dataframe\">\n",
              "  <thead>\n",
              "    <tr style=\"text-align: right;\">\n",
              "      <th></th>\n",
              "      <th>tweet_id</th>\n",
              "      <th>airline_sentiment</th>\n",
              "      <th>airline_sentiment_confidence</th>\n",
              "      <th>negativereason</th>\n",
              "      <th>negativereason_confidence</th>\n",
              "      <th>airline</th>\n",
              "      <th>airline_sentiment_gold</th>\n",
              "      <th>name</th>\n",
              "      <th>negativereason_gold</th>\n",
              "      <th>retweet_count</th>\n",
              "      <th>text</th>\n",
              "      <th>tweet_coord</th>\n",
              "      <th>tweet_created</th>\n",
              "      <th>tweet_location</th>\n",
              "      <th>user_timezone</th>\n",
              "    </tr>\n",
              "  </thead>\n",
              "  <tbody>\n",
              "    <tr>\n",
              "      <th>0</th>\n",
              "      <td>570306133677760513</td>\n",
              "      <td>neutral</td>\n",
              "      <td>1.0000</td>\n",
              "      <td>NaN</td>\n",
              "      <td>NaN</td>\n",
              "      <td>Virgin America</td>\n",
              "      <td>NaN</td>\n",
              "      <td>cairdin</td>\n",
              "      <td>NaN</td>\n",
              "      <td>0</td>\n",
              "      <td>@VirginAmerica What @dhepburn said.</td>\n",
              "      <td>NaN</td>\n",
              "      <td>2015-02-24 11:35:52 -0800</td>\n",
              "      <td>NaN</td>\n",
              "      <td>Eastern Time (US &amp; Canada)</td>\n",
              "    </tr>\n",
              "    <tr>\n",
              "      <th>1</th>\n",
              "      <td>570301130888122368</td>\n",
              "      <td>positive</td>\n",
              "      <td>0.3486</td>\n",
              "      <td>NaN</td>\n",
              "      <td>0.0000</td>\n",
              "      <td>Virgin America</td>\n",
              "      <td>NaN</td>\n",
              "      <td>jnardino</td>\n",
              "      <td>NaN</td>\n",
              "      <td>0</td>\n",
              "      <td>@VirginAmerica plus you've added commercials t...</td>\n",
              "      <td>NaN</td>\n",
              "      <td>2015-02-24 11:15:59 -0800</td>\n",
              "      <td>NaN</td>\n",
              "      <td>Pacific Time (US &amp; Canada)</td>\n",
              "    </tr>\n",
              "    <tr>\n",
              "      <th>2</th>\n",
              "      <td>570301083672813571</td>\n",
              "      <td>neutral</td>\n",
              "      <td>0.6837</td>\n",
              "      <td>NaN</td>\n",
              "      <td>NaN</td>\n",
              "      <td>Virgin America</td>\n",
              "      <td>NaN</td>\n",
              "      <td>yvonnalynn</td>\n",
              "      <td>NaN</td>\n",
              "      <td>0</td>\n",
              "      <td>@VirginAmerica I didn't today... Must mean I n...</td>\n",
              "      <td>NaN</td>\n",
              "      <td>2015-02-24 11:15:48 -0800</td>\n",
              "      <td>Lets Play</td>\n",
              "      <td>Central Time (US &amp; Canada)</td>\n",
              "    </tr>\n",
              "    <tr>\n",
              "      <th>3</th>\n",
              "      <td>570301031407624196</td>\n",
              "      <td>negative</td>\n",
              "      <td>1.0000</td>\n",
              "      <td>Bad Flight</td>\n",
              "      <td>0.7033</td>\n",
              "      <td>Virgin America</td>\n",
              "      <td>NaN</td>\n",
              "      <td>jnardino</td>\n",
              "      <td>NaN</td>\n",
              "      <td>0</td>\n",
              "      <td>@VirginAmerica it's really aggressive to blast...</td>\n",
              "      <td>NaN</td>\n",
              "      <td>2015-02-24 11:15:36 -0800</td>\n",
              "      <td>NaN</td>\n",
              "      <td>Pacific Time (US &amp; Canada)</td>\n",
              "    </tr>\n",
              "    <tr>\n",
              "      <th>4</th>\n",
              "      <td>570300817074462722</td>\n",
              "      <td>negative</td>\n",
              "      <td>1.0000</td>\n",
              "      <td>Can't Tell</td>\n",
              "      <td>1.0000</td>\n",
              "      <td>Virgin America</td>\n",
              "      <td>NaN</td>\n",
              "      <td>jnardino</td>\n",
              "      <td>NaN</td>\n",
              "      <td>0</td>\n",
              "      <td>@VirginAmerica and it's a really big bad thing...</td>\n",
              "      <td>NaN</td>\n",
              "      <td>2015-02-24 11:14:45 -0800</td>\n",
              "      <td>NaN</td>\n",
              "      <td>Pacific Time (US &amp; Canada)</td>\n",
              "    </tr>\n",
              "  </tbody>\n",
              "</table>\n",
              "</div>"
            ],
            "text/plain": [
              "             tweet_id  ...               user_timezone\n",
              "0  570306133677760513  ...  Eastern Time (US & Canada)\n",
              "1  570301130888122368  ...  Pacific Time (US & Canada)\n",
              "2  570301083672813571  ...  Central Time (US & Canada)\n",
              "3  570301031407624196  ...  Pacific Time (US & Canada)\n",
              "4  570300817074462722  ...  Pacific Time (US & Canada)\n",
              "\n",
              "[5 rows x 15 columns]"
            ]
          },
          "metadata": {
            "tags": []
          },
          "execution_count": 3
        }
      ]
    },
    {
      "cell_type": "markdown",
      "metadata": {
        "id": "YGvx7_RtqSaP"
      },
      "source": [
        "## **Exploratory Data Analysis**"
      ]
    },
    {
      "cell_type": "code",
      "metadata": {
        "colab": {
          "base_uri": "https://localhost:8080/"
        },
        "id": "rAHnlD7akFt5",
        "outputId": "c89ba991-f377-4532-bc9c-79aa8a7fb322"
      },
      "source": [
        "tweets.shape"
      ],
      "execution_count": 4,
      "outputs": [
        {
          "output_type": "execute_result",
          "data": {
            "text/plain": [
              "(14640, 15)"
            ]
          },
          "metadata": {
            "tags": []
          },
          "execution_count": 4
        }
      ]
    },
    {
      "cell_type": "code",
      "metadata": {
        "colab": {
          "base_uri": "https://localhost:8080/"
        },
        "id": "yNOLihqimqod",
        "outputId": "e88530a8-f7ab-43ae-c695-263e7ab04ca3"
      },
      "source": [
        "tweets[['airline_sentiment','text']].isnull().values.any()"
      ],
      "execution_count": 5,
      "outputs": [
        {
          "output_type": "execute_result",
          "data": {
            "text/plain": [
              "False"
            ]
          },
          "metadata": {
            "tags": []
          },
          "execution_count": 5
        }
      ]
    },
    {
      "cell_type": "code",
      "metadata": {
        "colab": {
          "base_uri": "https://localhost:8080/",
          "height": 573
        },
        "id": "1cwym4tLm_on",
        "outputId": "03735892-9fba-43ad-c1ea-3484a5c780e3"
      },
      "source": [
        "sns.set(rc={'figure.figsize':(11.0,8.0)})\n",
        "colors = [\"#0082c7\", \"#12c700\", \"#FF0B04\"]\n",
        "\n",
        "\n",
        "fig = sns.countplot(x ='airline_sentiment', data= tweets, palette=sns.set_palette(sns.color_palette(colors))  )\n",
        "fig.set(xlabel='Sentiments', ylabel='Count', title ='Airline Sentiments')"
      ],
      "execution_count": 6,
      "outputs": [
        {
          "output_type": "execute_result",
          "data": {
            "text/plain": [
              "[Text(0, 0.5, 'Count'),\n",
              " Text(0.5, 0, 'Sentiments'),\n",
              " Text(0.5, 1.0, 'Airline Sentiments')]"
            ]
          },
          "metadata": {
            "tags": []
          },
          "execution_count": 6
        },
        {
          "output_type": "display_data",
          "data": {
            "image/png": "[encoded data removed]",
            "text/plain": [
              "<Figure size 792x576 with 1 Axes>"
            ]
          },
          "metadata": {
            "tags": []
          }
        }
      ]
    },
    {
      "cell_type": "code",
      "metadata": {
        "colab": {
          "base_uri": "https://localhost:8080/",
          "height": 573
        },
        "id": "XorSY9_typ7j",
        "outputId": "c664a6c1-6d80-486c-f601-d1eb42313f46"
      },
      "source": [
        "ig_size = sns.set(rc={'figure.figsize':(11.0,8.0)})\n",
        "fig = sns.countplot(x ='airline', data= tweets, palette=\"Set1\")\n",
        "fig.set(xlabel='Airline', ylabel='Count', title ='Count of Airlines')"
      ],
      "execution_count": 7,
      "outputs": [
        {
          "output_type": "execute_result",
          "data": {
            "text/plain": [
              "[Text(0, 0.5, 'Count'),\n",
              " Text(0.5, 0, 'Airline'),\n",
              " Text(0.5, 1.0, 'Count of Airlines')]"
            ]
          },
          "metadata": {
            "tags": []
          },
          "execution_count": 7
        },
        {
          "output_type": "display_data",
          "data": {
            "image/png": "[encoded data removed]",
            "text/plain": [
              "<Figure size 792x576 with 1 Axes>"
            ]
          },
          "metadata": {
            "tags": []
          }
        }
      ]
    },
    {
      "cell_type": "code",
      "metadata": {
        "colab": {
          "base_uri": "https://localhost:8080/",
          "height": 573
        },
        "id": "VxPZY0UWrI0-",
        "outputId": "d8dd1222-423f-4ee6-db27-4b336a4b7ab2"
      },
      "source": [
        "sns.set(rc={'figure.figsize':(11.0,8.0)})\n",
        "colors = [\"#0082c7\", \"#12c700\", \"#FF0B04\"]\n",
        "sns.set_palette(sns.color_palette(colors))\n",
        "\n",
        "fig = sns.countplot(x ='airline', data= tweets, hue='airline_sentiment' )\n",
        "fig.set(xlabel='Airline', ylabel='Count', title ='Different sentiments for airlines')"
      ],
      "execution_count": 8,
      "outputs": [
        {
          "output_type": "execute_result",
          "data": {
            "text/plain": [
              "[Text(0, 0.5, 'Count'),\n",
              " Text(0.5, 0, 'Airline'),\n",
              " Text(0.5, 1.0, 'Different sentiments for airlines')]"
            ]
          },
          "metadata": {
            "tags": []
          },
          "execution_count": 8
        },
        {
          "output_type": "display_data",
          "data": {
            "image/png": "[encoded data removed]",
            "text/plain": [
              "<Figure size 792x576 with 1 Axes>"
            ]
          },
          "metadata": {
            "tags": []
          }
        }
      ]
    },
    {
      "cell_type": "markdown",
      "metadata": {
        "id": "lSLhQyyALI1c"
      },
      "source": [
        "## **Data Preprocessing**"
      ]
    },
    {
      "cell_type": "code",
      "metadata": {
        "id": "ypAa2nwTyAg-"
      },
      "source": [
        "x = tweets.loc[:,'text'].values\n",
        "y = tweets.loc[:,'airline_sentiment'].values"
      ],
      "execution_count": 9,
      "outputs": []
    },
    {
      "cell_type": "code",
      "metadata": {
        "id": "pwWnrHbtkwxg"
      },
      "source": [
        "cleaned_tweets = []\n",
        "\n",
        "for tweet in x:\n",
        "  cleaned_tweet = re.sub(r'\\W', ' ', tweet)  # replace all non alphanumeric characters with space\n",
        "  cleaned_tweet = re.sub(r'\\s+[a-zA-Z]\\s+', ' ', cleaned_tweet) # replace single characters in the tweet with space \n",
        "  cleaned_tweet = re.sub(r'^b\\s+', ' ', cleaned_tweet) # replace the character 'b' from prefix of a tweet which can be present to indicate dataset in byte format\n",
        "  cleaned_tweet = re.sub(r'\\s+', ' ', cleaned_tweet, flags= re.I) #replaces multiple spaces with a single space\n",
        "  cleaned_tweets.append(cleaned_tweet.lower())\n"
      ],
      "execution_count": 26,
      "outputs": []
    },
    {
      "cell_type": "markdown",
      "metadata": {
        "id": "CSxkEBr0tifE"
      },
      "source": [
        "\n",
        "\n",
        "###    `re.sub(r'\\W', ' ', tweet))` removes all the special characters from the tweets\n",
        "###    `re.sub(r'\\s+[a-zA-Z]\\s+', ' ', cleaned_tweet)`  removes all the single characters except the ones at the start of the tweet. This is important because after removing special characters there are many single words that do not have any meaning\n",
        "###    `re.sub(r'\\s+', ' ', cleaned_tweet, flags=re.I)` removes the multiple spaces that are present in the tweets because of removing special characters and single spaces\n",
        "###    `re.sub(r'^b\\s+', '', processed_tweet)` removes that leading “b” which is appended at the beginning of the string when the dataset is in byte format\n",
        "\n",
        "\n",
        "\n",
        "\n"
      ]
    },
    {
      "cell_type": "markdown",
      "metadata": {
        "id": "smA3_swiv8ZZ"
      },
      "source": [
        "## **TF-IDF**"
      ]
    },
    {
      "cell_type": "markdown",
      "metadata": {
        "id": "MeinUGj5wbrW"
      },
      "source": [
        "### The idea behind TF-IDF is that the words that occur more frequently in one document and less frequently in other documents should be given more importance as they are more useful for classification.\n"
      ]
    },
    {
      "cell_type": "code",
      "metadata": {
        "colab": {
          "base_uri": "https://localhost:8080/"
        },
        "id": "ibtT648Lwn3v",
        "outputId": "63812a9e-ddb7-47b3-d3df-86a525998d1c"
      },
      "source": [
        "vectorizer = TfidfVectorizer(max_features=2000, stop_words=stopwords.words('english'))  \n",
        "X = vectorizer.fit_transform(cleaned_tweets).toarray() # to convert the dataset into corresponding TF-IDF feature vectors\n",
        "\n",
        "print(X.shape)"
      ],
      "execution_count": 32,
      "outputs": [
        {
          "output_type": "stream",
          "text": [
            "(14640, 2000)\n"
          ],
          "name": "stdout"
        }
      ]
    },
    {
      "cell_type": "code",
      "metadata": {
        "id": "4Npu9AHyzYQm"
      },
      "source": [
        "# vocabulary items\n",
        "#vectorizer.get_feature_names()"
      ],
      "execution_count": 29,
      "outputs": []
    },
    {
      "cell_type": "code",
      "metadata": {
        "colab": {
          "base_uri": "https://localhost:8080/"
        },
        "id": "l3hXDxAfzdsu",
        "outputId": "9d4ee6bf-13c0-4d28-f03b-d9e4fafda9fe"
      },
      "source": [
        "X_train, X_val, y_train, y_val = train_test_split(X, y, test_size=0.2)\n",
        "print(X_train.shape, y_train.shape, X_val.shape, y_val.shape)"
      ],
      "execution_count": 41,
      "outputs": [
        {
          "output_type": "stream",
          "text": [
            "(11712, 2000) (11712,) (2928, 2000) (2928,)\n"
          ],
          "name": "stdout"
        }
      ]
    },
    {
      "cell_type": "code",
      "metadata": {
        "colab": {
          "base_uri": "https://localhost:8080/"
        },
        "id": "l9rrtk5t7Bqx",
        "outputId": "445d3dc3-252c-48a7-e92e-27f597b0c3cc"
      },
      "source": [
        "text_classifier = RandomForestClassifier(n_estimators=100, random_state=0)  \n",
        "text_classifier.fit(X_train, y_train)"
      ],
      "execution_count": 45,
      "outputs": [
        {
          "output_type": "execute_result",
          "data": {
            "text/plain": [
              "RandomForestClassifier(bootstrap=True, ccp_alpha=0.0, class_weight=None,\n",
              "                       criterion='gini', max_depth=None, max_features='auto',\n",
              "                       max_leaf_nodes=None, max_samples=None,\n",
              "                       min_impurity_decrease=0.0, min_impurity_split=None,\n",
              "                       min_samples_leaf=1, min_samples_split=2,\n",
              "                       min_weight_fraction_leaf=0.0, n_estimators=100,\n",
              "                       n_jobs=None, oob_score=False, random_state=0, verbose=0,\n",
              "                       warm_start=False)"
            ]
          },
          "metadata": {
            "tags": []
          },
          "execution_count": 45
        }
      ]
    },
    {
      "cell_type": "code",
      "metadata": {
        "id": "YMZCPU6u8Iua"
      },
      "source": [
        "predictions = text_classifier.predict(X_val)"
      ],
      "execution_count": 46,
      "outputs": []
    },
    {
      "cell_type": "code",
      "metadata": {
        "colab": {
          "base_uri": "https://localhost:8080/"
        },
        "id": "0GnrV3Ci8XeM",
        "outputId": "68170fdc-1ab0-472d-e0c1-2485f69931b6"
      },
      "source": [
        "print(confusion_matrix(y_val,predictions))   "
      ],
      "execution_count": 56,
      "outputs": [
        {
          "output_type": "stream",
          "text": [
            "[[1722  104   44]\n",
            " [ 330  238   46]\n",
            " [ 138   59  247]]\n"
          ],
          "name": "stdout"
        }
      ]
    },
    {
      "cell_type": "code",
      "metadata": {
        "colab": {
          "base_uri": "https://localhost:8080/"
        },
        "id": "oWc2HnMG-VNA",
        "outputId": "ab2fbbee-47ae-45eb-80b8-9b9d44c5ff7a"
      },
      "source": [
        "print(classification_report(y_val,predictions)) "
      ],
      "execution_count": 57,
      "outputs": [
        {
          "output_type": "stream",
          "text": [
            "              precision    recall  f1-score   support\n",
            "\n",
            "    negative       0.79      0.92      0.85      1870\n",
            "     neutral       0.59      0.39      0.47       614\n",
            "    positive       0.73      0.56      0.63       444\n",
            "\n",
            "    accuracy                           0.75      2928\n",
            "   macro avg       0.70      0.62      0.65      2928\n",
            "weighted avg       0.74      0.75      0.74      2928\n",
            "\n"
          ],
          "name": "stdout"
        }
      ]
    },
    {
      "cell_type": "code",
      "metadata": {
        "colab": {
          "base_uri": "https://localhost:8080/"
        },
        "id": "k9ec09Yh8gZ-",
        "outputId": "151edafd-12b0-4d8b-f979-6790ecc9623a"
      },
      "source": [
        "print('The accuracy score of the model is ' +str(round(accuracy_score(y_val, predictions)*100, 2))+ \"%\")"
      ],
      "execution_count": 54,
      "outputs": [
        {
          "output_type": "stream",
          "text": [
            "The accuracy score of the model is 75.38%\n"
          ],
          "name": "stdout"
        }
      ]
    }
  ]
}